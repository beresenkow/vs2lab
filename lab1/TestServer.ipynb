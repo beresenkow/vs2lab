{
 "cells": [
  {
   "cell_type": "markdown",
   "metadata": {},
   "source": [
    "Telefonbuchservice für den Server"
   ]
  },
  {
   "cell_type": "code",
   "execution_count": null,
   "metadata": {
    "vscode": {
     "languageId": "plaintext"
    }
   },
   "outputs": [
    {
     "name": "stderr",
     "output_type": "stream",
     "text": [
      "2024-11-04 15:40:43,165 - vs2lab.lab1.clientserver.Server - INFO - Server bound to socket <socket.socket fd=56, family=2, type=1, proto=0, laddr=('127.0.0.1', 50007)>\n",
      "2024-11-04 15:40:43,169 - vs2lab.lab1.clientserver.Server - INFO - Contacts dictionary initialized\n",
      "2024-11-04 15:40:57,836 - vs2lab.lab1.clientserver.Server - INFO - Recieved GET request\n"
     ]
    }
   ],
   "source": [
    "import clientserver\n",
    "\n",
    "server = clientserver.Server()\n",
    "\n",
    "server.serve()"
   ]
  },
  {
   "cell_type": "code",
   "execution_count": null,
   "metadata": {},
   "outputs": [],
   "source": []
  }
 ],
 "metadata": {
  "kernelspec": {
   "display_name": "Python 3 (ipykernel)",
   "language": "python",
   "name": "python3"
  },
  "language_info": {
   "codemirror_mode": {
    "name": "ipython",
    "version": 3
   },
   "file_extension": ".py",
   "mimetype": "text/x-python",
   "name": "python",
   "nbconvert_exporter": "python",
   "pygments_lexer": "ipython3",
   "version": "3.11.4"
  }
 },
 "nbformat": 4,
 "nbformat_minor": 4
}
