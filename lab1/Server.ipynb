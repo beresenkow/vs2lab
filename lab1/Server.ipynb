{
 "cells": [
  {
   "cell_type": "markdown",
   "metadata": {},
   "source": [
    "# Running server and client in separate notebooks - server part\n",
    "This is the first notebook we need to run in this constelation. Note that the client notebook needs to be run now in a separate window."
   ]
  },
  {
   "cell_type": "code",
   "execution_count": 1,
   "metadata": {},
   "outputs": [
    {
     "name": "stderr",
     "output_type": "stream",
     "text": [
      "2024-11-04 15:03:04,298 - vs2lab.lab1.clientserver.Server - INFO - Server bound to socket <socket.socket fd=56, family=2, type=1, proto=0, laddr=('127.0.0.1', 50007)>\n",
      "2024-11-04 15:03:10,676 - vs2lab.lab1.clientserver.Server - INFO - Connection established with ('127.0.0.1', 54712)\n"
     ]
    },
    {
     "ename": "UnboundLocalError",
     "evalue": "cannot access local variable 'response' where it is not associated with a value",
     "output_type": "error",
     "traceback": [
      "\u001b[0;31m---------------------------------------------------------------------------\u001b[0m",
      "\u001b[0;31mUnboundLocalError\u001b[0m                         Traceback (most recent call last)",
      "Cell \u001b[0;32mIn[1], line 5\u001b[0m\n\u001b[1;32m      1\u001b[0m \u001b[38;5;28;01mimport\u001b[39;00m \u001b[38;5;21;01mclientserver\u001b[39;00m \u001b[38;5;66;03m# import from our script\u001b[39;00m\n\u001b[1;32m      3\u001b[0m server \u001b[38;5;241m=\u001b[39m clientserver\u001b[38;5;241m.\u001b[39mServer() \u001b[38;5;66;03m# Create a server instance\u001b[39;00m\n\u001b[0;32m----> 5\u001b[0m \u001b[43mserver\u001b[49m\u001b[38;5;241;43m.\u001b[39;49m\u001b[43mserve\u001b[49m\u001b[43m(\u001b[49m\u001b[43m)\u001b[49m \u001b[38;5;66;03m# start server routine in the forked process\u001b[39;00m\n",
      "File \u001b[0;32m/workspaces/vs2lab/lab1/clientserver.py:68\u001b[0m, in \u001b[0;36mServer.serve\u001b[0;34m(self)\u001b[0m\n\u001b[1;32m     64\u001b[0m         \u001b[38;5;28;01melse\u001b[39;00m:\n\u001b[1;32m     65\u001b[0m             \u001b[38;5;66;03m# General response for non-dictionary requests\u001b[39;00m\n\u001b[1;32m     66\u001b[0m             connection\u001b[38;5;241m.\u001b[39msend(data \u001b[38;5;241m+\u001b[39m \u001b[38;5;124m\"\u001b[39m\u001b[38;5;124m*\u001b[39m\u001b[38;5;124m\"\u001b[39m\u001b[38;5;241m.\u001b[39mencode(\u001b[38;5;124m'\u001b[39m\u001b[38;5;124mascii\u001b[39m\u001b[38;5;124m'\u001b[39m))  \u001b[38;5;66;03m# return sent data plus an \"*\"\u001b[39;00m\n\u001b[0;32m---> 68\u001b[0m         connection\u001b[38;5;241m.\u001b[39msend(\u001b[43mresponse\u001b[49m\u001b[38;5;241m.\u001b[39mencode(\u001b[38;5;124m'\u001b[39m\u001b[38;5;124mascii\u001b[39m\u001b[38;5;124m'\u001b[39m))\n\u001b[1;32m     69\u001b[0m     connection\u001b[38;5;241m.\u001b[39mclose()\n\u001b[1;32m     70\u001b[0m \u001b[38;5;28;01mexcept\u001b[39;00m socket\u001b[38;5;241m.\u001b[39mtimeout:\n",
      "\u001b[0;31mUnboundLocalError\u001b[0m: cannot access local variable 'response' where it is not associated with a value"
     ]
    }
   ],
   "source": [
    "import clientserver # import from our script\n",
    "\n",
    "server = clientserver.Server() # Create a server instance\n",
    "\n",
    "server.serve() # start server routine in the forked process"
   ]
  },
  {
   "cell_type": "markdown",
   "metadata": {},
   "source": [
    "Finished"
   ]
  }
 ],
 "metadata": {
  "kernelspec": {
   "display_name": "Python 3 (ipykernel)",
   "language": "python",
   "name": "python3"
  },
  "language_info": {
   "codemirror_mode": {
    "name": "ipython",
    "version": 3
   },
   "file_extension": ".py",
   "mimetype": "text/x-python",
   "name": "python",
   "nbconvert_exporter": "python",
   "pygments_lexer": "ipython3",
   "version": "3.11.4"
  }
 },
 "nbformat": 4,
 "nbformat_minor": 4
}
